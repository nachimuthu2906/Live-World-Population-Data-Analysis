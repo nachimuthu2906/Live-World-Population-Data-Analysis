{
 "cells": [
  {
   "cell_type": "code",
   "execution_count": 1,
   "id": "87a9231e-23f3-4283-af43-e6815c08c5e7",
   "metadata": {},
   "outputs": [
    {
     "name": "stdout",
     "output_type": "stream",
     "text": [
      "Requirement already satisfied: requests in c:\\users\\hp\\anaconda3\\lib\\site-packages (2.32.2)\n",
      "Requirement already satisfied: pandas in c:\\users\\hp\\anaconda3\\lib\\site-packages (2.2.2)\n",
      "Requirement already satisfied: mysql-connector-python in c:\\users\\hp\\anaconda3\\lib\\site-packages (9.2.0)\n",
      "Requirement already satisfied: charset-normalizer<4,>=2 in c:\\users\\hp\\anaconda3\\lib\\site-packages (from requests) (2.0.4)\n",
      "Requirement already satisfied: idna<4,>=2.5 in c:\\users\\hp\\anaconda3\\lib\\site-packages (from requests) (3.7)\n",
      "Requirement already satisfied: urllib3<3,>=1.21.1 in c:\\users\\hp\\anaconda3\\lib\\site-packages (from requests) (2.2.2)\n",
      "Requirement already satisfied: certifi>=2017.4.17 in c:\\users\\hp\\anaconda3\\lib\\site-packages (from requests) (2025.1.31)\n",
      "Requirement already satisfied: numpy>=1.26.0 in c:\\users\\hp\\anaconda3\\lib\\site-packages (from pandas) (1.26.4)\n",
      "Requirement already satisfied: python-dateutil>=2.8.2 in c:\\users\\hp\\anaconda3\\lib\\site-packages (from pandas) (2.9.0.post0)\n",
      "Requirement already satisfied: pytz>=2020.1 in c:\\users\\hp\\anaconda3\\lib\\site-packages (from pandas) (2024.1)\n",
      "Requirement already satisfied: tzdata>=2022.7 in c:\\users\\hp\\anaconda3\\lib\\site-packages (from pandas) (2023.3)\n",
      "Requirement already satisfied: six>=1.5 in c:\\users\\hp\\anaconda3\\lib\\site-packages (from python-dateutil>=2.8.2->pandas) (1.16.0)\n",
      "Note: you may need to restart the kernel to use updated packages.\n"
     ]
    }
   ],
   "source": [
    "pip install requests pandas mysql-connector-python\n"
   ]
  },
  {
   "cell_type": "code",
   "execution_count": 3,
   "id": "1f8cd57e-08ab-4223-afb5-608ad22b26ff",
   "metadata": {},
   "outputs": [
    {
     "name": "stdout",
     "output_type": "stream",
     "text": [
      "Requirement already satisfied: pymysql in c:\\users\\hp\\anaconda3\\lib\\site-packages (1.1.1)\n",
      "Note: you may need to restart the kernel to use updated packages.\n"
     ]
    }
   ],
   "source": [
    "pip install pymysql\n"
   ]
  },
  {
   "cell_type": "code",
   "execution_count": 59,
   "id": "e5446dfc-2dad-4177-9ef8-b96112858ce4",
   "metadata": {},
   "outputs": [
    {
     "name": "stdout",
     "output_type": "stream",
     "text": [
      "                       Country  Year   Population\n",
      "0  Africa Eastern and Southern  2023  750503764.0\n",
      "1  Africa Eastern and Southern  2022  731821393.0\n",
      "2  Africa Eastern and Southern  2021  713090928.0\n",
      "3  Africa Eastern and Southern  2020  694446100.0\n",
      "4  Africa Eastern and Southern  2019  675950189.0\n",
      "5  Africa Eastern and Southern  2018  657801085.0\n",
      "6  Africa Eastern and Southern  2017  640058741.0\n",
      "7  Africa Eastern and Southern  2016  623369401.0\n",
      "8  Africa Eastern and Southern  2015  607123269.0\n",
      "9  Africa Eastern and Southern  2014  590968990.0\n"
     ]
    }
   ],
   "source": [
    "import requests\n",
    "import json\n",
    "import pandas as pd\n",
    "\n",
    "# API URL for all countries' population data\n",
    "url = \"https://api.worldbank.org/v2/country/all/indicator/SP.POP.TOTL?format=json&per_page=5000\"\n",
    "\n",
    "# Send request\n",
    "response = requests.get(url)\n",
    "data = response.json()\n",
    "\n",
    "# Extract relevant information\n",
    "population_data = []\n",
    "for entry in data[1]:  # Data is inside the second list\n",
    "    country = entry[\"country\"][\"value\"]\n",
    "    year = int(entry[\"date\"])\n",
    "    population = entry[\"value\"]\n",
    "\n",
    "    population_data.append([country, year, population])\n",
    "\n",
    "# Convert to DataFrame\n",
    "df = pd.DataFrame(population_data, columns=[\"Country\", \"Year\", \"Population\"])\n",
    "print(df.head(10))\n"
   ]
  },
  {
   "cell_type": "code",
   "execution_count": 93,
   "id": "2a01d602-a18b-4f1c-a2ae-30fc8fe3081c",
   "metadata": {},
   "outputs": [],
   "source": [
    "import mysql.connector\n",
    "import os"
   ]
  },
  {
   "cell_type": "code",
   "execution_count": 95,
   "id": "505c7f79-cb01-4ceb-9fcf-c8fdbeb9987a",
   "metadata": {},
   "outputs": [],
   "source": [
    "mydb =mysql.connector.connect(host = 'localhost', user= 'root', password='nmn2906',database='world_population',use_pure=True)"
   ]
  },
  {
   "cell_type": "code",
   "execution_count": 96,
   "id": "d23d37d8-da67-41dc-b642-a6dae03a9d86",
   "metadata": {},
   "outputs": [],
   "source": [
    "mycursor=mydb.cursor()"
   ]
  },
  {
   "cell_type": "code",
   "execution_count": 101,
   "id": "9049e709-2316-4d53-ac21-39ff9780d5e1",
   "metadata": {},
   "outputs": [
    {
     "name": "stdout",
     "output_type": "stream",
     "text": [
      "('population',)\n"
     ]
    }
   ],
   "source": [
    "mycursor.execute('show tables')\n",
    "for x in mycursor:\n",
    "    print(x)"
   ]
  },
  {
   "cell_type": "code",
   "execution_count": 49,
   "id": "2944d3e7-3229-4ae6-8590-66833fce65bb",
   "metadata": {},
   "outputs": [
    {
     "name": "stdout",
     "output_type": "stream",
     "text": [
      "Number of records: 5000\n"
     ]
    }
   ],
   "source": [
    "print(\"Number of records:\", len(population_data))\n"
   ]
  },
  {
   "cell_type": "code",
   "execution_count": 87,
   "id": "9007d2c0-baf6-4463-9f61-bd744d59e8fe",
   "metadata": {},
   "outputs": [
    {
     "name": "stdout",
     "output_type": "stream",
     "text": [
      "MySQL Connection Object: <mysql.connector.connection.MySQLConnection object at 0x0000027318ECE360>\n"
     ]
    }
   ],
   "source": [
    "print(\"MySQL Connection Object:\", mydb)\n"
   ]
  },
  {
   "cell_type": "code",
   "execution_count": 89,
   "id": "bb1a90c9-3c42-4b1b-b556-d4a040798da5",
   "metadata": {},
   "outputs": [
    {
     "name": "stdout",
     "output_type": "stream",
     "text": [
      "Connected to MySQL successfully!\n",
      "Data successfully inserted into MySQL!\n"
     ]
    }
   ],
   "source": [
    "#  Ensure connection is open before proceeding\n",
    "if mydb.is_connected():\n",
    "    print(\"Connected to MySQL successfully!\")\n",
    "\n",
    "    #  Create cursor\n",
    "    cursor = mydb.cursor()\n",
    "\n",
    "    #  Insert data into MySQL\n",
    "    for row in population_data:\n",
    "        cursor.execute(\"INSERT INTO population (country, year, population) VALUES (%s, %s, %s)\", \n",
    "                       (row[0], row[1], row[2]))\n",
    "\n",
    "    #  Commit changes\n",
    "    mydb.commit()\n",
    "    print(\"Data successfully inserted into MySQL!\")\n",
    "\n",
    "    #  Close cursor & connection\n",
    "    cursor.close()\n",
    "    mydb.close()\n",
    "else:\n",
    "    print(\"Error: Unable to connect to MySQL\")"
   ]
  },
  {
   "cell_type": "code",
   "execution_count": null,
   "id": "14f3c41b-b893-40b7-ab9d-152b0df41e06",
   "metadata": {},
   "outputs": [],
   "source": []
  }
 ],
 "metadata": {
  "kernelspec": {
   "display_name": "Python [conda env:base] *",
   "language": "python",
   "name": "conda-base-py"
  },
  "language_info": {
   "codemirror_mode": {
    "name": "ipython",
    "version": 3
   },
   "file_extension": ".py",
   "mimetype": "text/x-python",
   "name": "python",
   "nbconvert_exporter": "python",
   "pygments_lexer": "ipython3",
   "version": "3.12.4"
  }
 },
 "nbformat": 4,
 "nbformat_minor": 5
}
